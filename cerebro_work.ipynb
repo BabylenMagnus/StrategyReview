{
 "cells": [
  {
   "cell_type": "code",
   "execution_count": 1,
   "outputs": [],
   "source": [
    "import collections\n",
    "import itertools\n",
    "from backtrader.brokers import BackBroker\n",
    "import backtrader.feeds as btfeeds\n",
    "import backtrader as bt"
   ],
   "metadata": {
    "collapsed": false,
    "pycharm": {
     "name": "#%%\n"
    }
   }
  },
  {
   "cell_type": "code",
   "execution_count": 2,
   "outputs": [],
   "source": [
    "params = (\n",
    "        ('preload', True),\n",
    "        ('runonce', True),\n",
    "        ('maxcpus', None),\n",
    "        ('stdstats', True),\n",
    "        ('oldbuysell', False),\n",
    "        ('oldtrades', False),\n",
    "        ('lookahead', 0),\n",
    "        ('exactbars', False),\n",
    "        ('optdatas', True),\n",
    "        ('optreturn', True),\n",
    "        ('objcache', False),\n",
    "        ('live', False),\n",
    "        ('writer', False),\n",
    "        ('tradehistory', False),\n",
    "        ('oldsync', False),\n",
    "        ('tz', None),\n",
    "        ('cheat_on_open', False),\n",
    "        ('broker_coo', True),\n",
    "        ('quicknotify', False),\n",
    "    )"
   ],
   "metadata": {
    "collapsed": false,
    "pycharm": {
     "name": "#%%\n"
    }
   }
  },
  {
   "cell_type": "code",
   "execution_count": 3,
   "outputs": [],
   "source": [
    "# init\n",
    "\n",
    "_dolive = False\n",
    "_doreplay = False\n",
    "_dooptimize = False\n",
    "stores = list()\n",
    "feeds = list()\n",
    "datas = list()\n",
    "datasbyname = collections.OrderedDict()\n",
    "strats = list()\n",
    "optcbs = list()  # holds a list of callbacks for opt strategies\n",
    "observers = list()\n",
    "analyzers = list()\n",
    "indicators = list()\n",
    "sizers = dict()\n",
    "writers = list()\n",
    "storecbs = list()\n",
    "datacbs = list()\n",
    "signals = list()\n",
    "_signal_strat = (None, None, None)\n",
    "_signal_concurrent = False\n",
    "_signal_accumulate = False\n",
    "\n",
    "_dataid = itertools.count(1)\n",
    "\n",
    "_broker = BackBroker()\n",
    "# _broker.cerebro = self\n",
    "\n",
    "_tradingcal = None  # TradingCalendar()\n",
    "\n",
    "_pretimers = list()\n",
    "_ohistory = list()\n",
    "_fhistory = None"
   ],
   "metadata": {
    "collapsed": false,
    "pycharm": {
     "name": "#%%\n"
    }
   }
  },
  {
   "cell_type": "code",
   "execution_count": 4,
   "outputs": [],
   "source": [
    "data = btfeeds.YahooFinanceCSVData(\n",
    "    dataname='temp/AAPL 2022_04_02 2022_04_08.csv', timeframe=bt.TimeFrame.Minutes,\n",
    "    compression=5, quicknotify=True\n",
    ")"
   ],
   "metadata": {
    "collapsed": false,
    "pycharm": {
     "name": "#%%\n"
    }
   }
  },
  {
   "cell_type": "code",
   "execution_count": 5,
   "outputs": [],
   "source": [
    "# adddata\n",
    "\n",
    "data._name = None\n",
    "\n",
    "data._id = next(_dataid)\n",
    "datas.append(data)\n",
    "datasbyname[data._name] = data\n",
    "feed = data.getfeed()\n"
   ],
   "metadata": {
    "collapsed": false,
    "pycharm": {
     "name": "#%%\n"
    }
   }
  },
  {
   "cell_type": "code",
   "execution_count": 6,
   "outputs": [
    {
     "ename": "AttributeError",
     "evalue": "'tuple' object has no attribute '_getkeys'",
     "output_type": "error",
     "traceback": [
      "\u001B[1;31m---------------------------------------------------------------------------\u001B[0m",
      "\u001B[1;31mAttributeError\u001B[0m                            Traceback (most recent call last)",
      "Input \u001B[1;32mIn [6]\u001B[0m, in \u001B[0;36m<module>\u001B[1;34m\u001B[0m\n\u001B[0;32m      1\u001B[0m \u001B[38;5;66;03m# run\u001B[39;00m\n\u001B[0;32m      3\u001B[0m _event_stop \u001B[38;5;241m=\u001B[39m \u001B[38;5;28;01mFalse\u001B[39;00m\n\u001B[1;32m----> 4\u001B[0m pkeys \u001B[38;5;241m=\u001B[39m \u001B[43mparams\u001B[49m\u001B[38;5;241;43m.\u001B[39;49m\u001B[43m_getkeys\u001B[49m()\n",
      "\u001B[1;31mAttributeError\u001B[0m: 'tuple' object has no attribute '_getkeys'"
     ]
    }
   ],
   "source": [
    "# run\n",
    "\n",
    "_event_stop = False\n",
    "pkeys = params._getkeys()"
   ],
   "metadata": {
    "collapsed": false,
    "pycharm": {
     "name": "#%%\n"
    }
   }
  },
  {
   "cell_type": "code",
   "execution_count": 7,
   "outputs": [
    {
     "data": {
      "text/plain": "False"
     },
     "execution_count": 7,
     "metadata": {},
     "output_type": "execute_result"
    }
   ],
   "source": [
    "data.islive()"
   ],
   "metadata": {
    "collapsed": false,
    "pycharm": {
     "name": "#%%\n"
    }
   }
  },
  {
   "cell_type": "code",
   "execution_count": null,
   "outputs": [],
   "source": [],
   "metadata": {
    "collapsed": false,
    "pycharm": {
     "name": "#%%\n"
    }
   }
  }
 ],
 "metadata": {
  "kernelspec": {
   "display_name": "Python 3",
   "language": "python",
   "name": "python3"
  },
  "language_info": {
   "codemirror_mode": {
    "name": "ipython",
    "version": 2
   },
   "file_extension": ".py",
   "mimetype": "text/x-python",
   "name": "python",
   "nbconvert_exporter": "python",
   "pygments_lexer": "ipython2",
   "version": "2.7.6"
  }
 },
 "nbformat": 4,
 "nbformat_minor": 0
}