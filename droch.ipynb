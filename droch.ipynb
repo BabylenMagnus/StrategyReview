{
 "cells": [
  {
   "cell_type": "code",
   "execution_count": 1,
   "metadata": {
    "pycharm": {
     "name": "#%%\n"
    }
   },
   "outputs": [],
   "source": [
    "from utils import figi_from_ticker, get_shares, figi"
   ]
  },
  {
   "cell_type": "code",
   "execution_count": 2,
   "metadata": {
    "pycharm": {
     "name": "#%%\n"
    },
    "scrolled": true
   },
   "outputs": [
    {
     "name": "stdout",
     "output_type": "stream",
     "text": [
      "[*********************100%***********************]  1 of 1 completed\n"
     ]
    },
    {
     "data": {
      "text/html": [
       "<div>\n",
       "<style scoped>\n",
       "    .dataframe tbody tr th:only-of-type {\n",
       "        vertical-align: middle;\n",
       "    }\n",
       "\n",
       "    .dataframe tbody tr th {\n",
       "        vertical-align: top;\n",
       "    }\n",
       "\n",
       "    .dataframe thead th {\n",
       "        text-align: right;\n",
       "    }\n",
       "</style>\n",
       "<table border=\"1\" class=\"dataframe\">\n",
       "  <thead>\n",
       "    <tr style=\"text-align: right;\">\n",
       "      <th></th>\n",
       "      <th>Open</th>\n",
       "      <th>High</th>\n",
       "      <th>Low</th>\n",
       "      <th>Close</th>\n",
       "      <th>Adj Close</th>\n",
       "      <th>Volume</th>\n",
       "    </tr>\n",
       "    <tr>\n",
       "      <th>Date</th>\n",
       "      <th></th>\n",
       "      <th></th>\n",
       "      <th></th>\n",
       "      <th></th>\n",
       "      <th></th>\n",
       "      <th></th>\n",
       "    </tr>\n",
       "  </thead>\n",
       "  <tbody>\n",
       "    <tr>\n",
       "      <th>1999-12-31</th>\n",
       "      <td>0.901228</td>\n",
       "      <td>0.918527</td>\n",
       "      <td>0.888393</td>\n",
       "      <td>0.917969</td>\n",
       "      <td>0.786033</td>\n",
       "      <td>163811200</td>\n",
       "    </tr>\n",
       "    <tr>\n",
       "      <th>2000-01-03</th>\n",
       "      <td>0.936384</td>\n",
       "      <td>1.004464</td>\n",
       "      <td>0.907924</td>\n",
       "      <td>0.999442</td>\n",
       "      <td>0.855797</td>\n",
       "      <td>535796800</td>\n",
       "    </tr>\n",
       "    <tr>\n",
       "      <th>2000-01-04</th>\n",
       "      <td>0.966518</td>\n",
       "      <td>0.987723</td>\n",
       "      <td>0.903460</td>\n",
       "      <td>0.915179</td>\n",
       "      <td>0.783644</td>\n",
       "      <td>512377600</td>\n",
       "    </tr>\n",
       "    <tr>\n",
       "      <th>2000-01-05</th>\n",
       "      <td>0.926339</td>\n",
       "      <td>0.987165</td>\n",
       "      <td>0.919643</td>\n",
       "      <td>0.928571</td>\n",
       "      <td>0.795112</td>\n",
       "      <td>778321600</td>\n",
       "    </tr>\n",
       "    <tr>\n",
       "      <th>2000-01-06</th>\n",
       "      <td>0.947545</td>\n",
       "      <td>0.955357</td>\n",
       "      <td>0.848214</td>\n",
       "      <td>0.848214</td>\n",
       "      <td>0.726304</td>\n",
       "      <td>767972800</td>\n",
       "    </tr>\n",
       "    <tr>\n",
       "      <th>...</th>\n",
       "      <td>...</td>\n",
       "      <td>...</td>\n",
       "      <td>...</td>\n",
       "      <td>...</td>\n",
       "      <td>...</td>\n",
       "      <td>...</td>\n",
       "    </tr>\n",
       "    <tr>\n",
       "      <th>2022-03-28</th>\n",
       "      <td>172.169998</td>\n",
       "      <td>175.729996</td>\n",
       "      <td>172.000000</td>\n",
       "      <td>175.600006</td>\n",
       "      <td>175.600006</td>\n",
       "      <td>90371900</td>\n",
       "    </tr>\n",
       "    <tr>\n",
       "      <th>2022-03-29</th>\n",
       "      <td>176.690002</td>\n",
       "      <td>179.009995</td>\n",
       "      <td>176.339996</td>\n",
       "      <td>178.960007</td>\n",
       "      <td>178.960007</td>\n",
       "      <td>100589400</td>\n",
       "    </tr>\n",
       "    <tr>\n",
       "      <th>2022-03-30</th>\n",
       "      <td>178.550003</td>\n",
       "      <td>179.610001</td>\n",
       "      <td>176.699997</td>\n",
       "      <td>177.770004</td>\n",
       "      <td>177.770004</td>\n",
       "      <td>92633200</td>\n",
       "    </tr>\n",
       "    <tr>\n",
       "      <th>2022-03-31</th>\n",
       "      <td>177.839996</td>\n",
       "      <td>178.029999</td>\n",
       "      <td>174.399994</td>\n",
       "      <td>174.610001</td>\n",
       "      <td>174.610001</td>\n",
       "      <td>103049300</td>\n",
       "    </tr>\n",
       "    <tr>\n",
       "      <th>2022-04-01</th>\n",
       "      <td>174.029999</td>\n",
       "      <td>174.880005</td>\n",
       "      <td>171.940002</td>\n",
       "      <td>174.309998</td>\n",
       "      <td>174.309998</td>\n",
       "      <td>78699800</td>\n",
       "    </tr>\n",
       "  </tbody>\n",
       "</table>\n",
       "<p>5600 rows × 6 columns</p>\n",
       "</div>"
      ],
      "text/plain": [
       "                  Open        High         Low       Close   Adj Close  \\\n",
       "Date                                                                     \n",
       "1999-12-31    0.901228    0.918527    0.888393    0.917969    0.786033   \n",
       "2000-01-03    0.936384    1.004464    0.907924    0.999442    0.855797   \n",
       "2000-01-04    0.966518    0.987723    0.903460    0.915179    0.783644   \n",
       "2000-01-05    0.926339    0.987165    0.919643    0.928571    0.795112   \n",
       "2000-01-06    0.947545    0.955357    0.848214    0.848214    0.726304   \n",
       "...                ...         ...         ...         ...         ...   \n",
       "2022-03-28  172.169998  175.729996  172.000000  175.600006  175.600006   \n",
       "2022-03-29  176.690002  179.009995  176.339996  178.960007  178.960007   \n",
       "2022-03-30  178.550003  179.610001  176.699997  177.770004  177.770004   \n",
       "2022-03-31  177.839996  178.029999  174.399994  174.610001  174.610001   \n",
       "2022-04-01  174.029999  174.880005  171.940002  174.309998  174.309998   \n",
       "\n",
       "               Volume  \n",
       "Date                   \n",
       "1999-12-31  163811200  \n",
       "2000-01-03  535796800  \n",
       "2000-01-04  512377600  \n",
       "2000-01-05  778321600  \n",
       "2000-01-06  767972800  \n",
       "...               ...  \n",
       "2022-03-28   90371900  \n",
       "2022-03-29  100589400  \n",
       "2022-03-30   92633200  \n",
       "2022-03-31  103049300  \n",
       "2022-04-01   78699800  \n",
       "\n",
       "[5600 rows x 6 columns]"
      ]
     },
     "execution_count": 2,
     "metadata": {},
     "output_type": "execute_result"
    }
   ],
   "source": [
    "data = get_shares('aapl')\n",
    "data"
   ]
  },
  {
   "cell_type": "code",
   "execution_count": 4,
   "metadata": {
    "pycharm": {
     "name": "#%%\n"
    }
   },
   "outputs": [
    {
     "data": {
      "text/plain": [
       "0               SBWS\n",
       "1               RCMX\n",
       "2               FXTB\n",
       "3       RU000A1007R9\n",
       "4       RU000A102Q33\n",
       "            ...     \n",
       "2077              RH\n",
       "2078             XYL\n",
       "2079            IDCC\n",
       "2080            AMED\n",
       "2081             PGR\n",
       "Name: ticker, Length: 2082, dtype: object"
      ]
     },
     "execution_count": 4,
     "metadata": {},
     "output_type": "execute_result"
    }
   ],
   "source": [
    "figi['ticker']"
   ]
  },
  {
   "cell_type": "code",
   "execution_count": 1,
   "metadata": {},
   "outputs": [],
   "source": [
    "import datetime as dt\n",
    "import matplotlib.pyplot as plt\n",
    "from matplotlib import style\n",
    "import pandas as pd\n",
    "import pandas_datareader.data as web"
   ]
  },
  {
   "cell_type": "code",
   "execution_count": 3,
   "metadata": {},
   "outputs": [],
   "source": [
    "style.use('ggplot')\n",
    "\n",
    "start = dt.datetime(2015, 1, 1)\n",
    "end = dt.datetime.now()"
   ]
  },
  {
   "cell_type": "code",
   "execution_count": 4,
   "metadata": {},
   "outputs": [],
   "source": [
    "df = web.DataReader(\"TSLA\", 'yahoo', start, end)"
   ]
  },
  {
   "cell_type": "code",
   "execution_count": 31,
   "metadata": {},
   "outputs": [],
   "source": [
    "import pandas_datareader as pdr\n"
   ]
  },
  {
   "cell_type": "code",
   "execution_count": 32,
   "metadata": {},
   "outputs": [
    {
     "name": "stderr",
     "output_type": "stream",
     "text": [
      "C:\\ProgramData\\Anaconda3\\lib\\site-packages\\pandas_datareader\\moex.py:215: FutureWarning: The frame.append method is deprecated and will be removed from pandas in a future version. Use pandas.concat instead.\n",
      "  result = result.append(part)\n",
      "C:\\ProgramData\\Anaconda3\\lib\\site-packages\\pandas_datareader\\moex.py:215: FutureWarning: The frame.append method is deprecated and will be removed from pandas in a future version. Use pandas.concat instead.\n",
      "  result = result.append(part)\n"
     ]
    }
   ],
   "source": [
    "f = pdr.get_data_moex(['USD000UTSTOM', 'MAGN'], '2020-07-02', '2020-07-07')"
   ]
  },
  {
   "cell_type": "code",
   "execution_count": 36,
   "metadata": {
    "scrolled": true
   },
   "outputs": [
    {
     "name": "stderr",
     "output_type": "stream",
     "text": [
      "C:\\ProgramData\\Anaconda3\\lib\\site-packages\\pandas_datareader\\moex.py:215: FutureWarning: The frame.append method is deprecated and will be removed from pandas in a future version. Use pandas.concat instead.\n",
      "  result = result.append(part)\n"
     ]
    }
   ],
   "source": [
    "f = pdr.moex.MoexReader('SBER').read()"
   ]
  },
  {
   "cell_type": "code",
   "execution_count": 37,
   "metadata": {},
   "outputs": [
    {
     "data": {
      "text/html": [
       "<div>\n",
       "<style scoped>\n",
       "    .dataframe tbody tr th:only-of-type {\n",
       "        vertical-align: middle;\n",
       "    }\n",
       "\n",
       "    .dataframe tbody tr th {\n",
       "        vertical-align: top;\n",
       "    }\n",
       "\n",
       "    .dataframe thead th {\n",
       "        text-align: right;\n",
       "    }\n",
       "</style>\n",
       "<table border=\"1\" class=\"dataframe\">\n",
       "  <thead>\n",
       "    <tr style=\"text-align: right;\">\n",
       "      <th></th>\n",
       "      <th>ADMITTEDQUOTE</th>\n",
       "      <th>ADMITTEDVALUE</th>\n",
       "      <th>BEICLOSE</th>\n",
       "      <th>BID</th>\n",
       "      <th>BOARDID</th>\n",
       "      <th>BOARDNAME</th>\n",
       "      <th>BUYBACKDATE</th>\n",
       "      <th>CBRCLOSE</th>\n",
       "      <th>CLOSE</th>\n",
       "      <th>CLOSEAUCTIONPRICE</th>\n",
       "      <th>...</th>\n",
       "      <th>TRENDCLSPR</th>\n",
       "      <th>TRENDWAP</th>\n",
       "      <th>TRENDWAPPR</th>\n",
       "      <th>TYPE</th>\n",
       "      <th>VALUE</th>\n",
       "      <th>VOLUME</th>\n",
       "      <th>WAPRICE</th>\n",
       "      <th>WAVAL</th>\n",
       "      <th>YIELDLASTCOUPON</th>\n",
       "      <th>YIELDTOOFFER</th>\n",
       "    </tr>\n",
       "    <tr>\n",
       "      <th>TRADEDATE</th>\n",
       "      <th></th>\n",
       "      <th></th>\n",
       "      <th></th>\n",
       "      <th></th>\n",
       "      <th></th>\n",
       "      <th></th>\n",
       "      <th></th>\n",
       "      <th></th>\n",
       "      <th></th>\n",
       "      <th></th>\n",
       "      <th></th>\n",
       "      <th></th>\n",
       "      <th></th>\n",
       "      <th></th>\n",
       "      <th></th>\n",
       "      <th></th>\n",
       "      <th></th>\n",
       "      <th></th>\n",
       "      <th></th>\n",
       "      <th></th>\n",
       "      <th></th>\n",
       "    </tr>\n",
       "  </thead>\n",
       "  <tbody>\n",
       "    <tr>\n",
       "      <th>2017-04-03</th>\n",
       "      <td>161.80</td>\n",
       "      <td>5.287147e+09</td>\n",
       "      <td>NaN</td>\n",
       "      <td>NaN</td>\n",
       "      <td>TQBR</td>\n",
       "      <td>NaN</td>\n",
       "      <td>NaN</td>\n",
       "      <td>NaN</td>\n",
       "      <td>161.8</td>\n",
       "      <td>NaN</td>\n",
       "      <td>...</td>\n",
       "      <td>NaN</td>\n",
       "      <td>NaN</td>\n",
       "      <td>NaN</td>\n",
       "      <td>NaN</td>\n",
       "      <td>5287146510.1</td>\n",
       "      <td>32726400.0</td>\n",
       "      <td>161.56</td>\n",
       "      <td>NaN</td>\n",
       "      <td>NaN</td>\n",
       "      <td>NaN</td>\n",
       "    </tr>\n",
       "    <tr>\n",
       "      <th>2017-04-04</th>\n",
       "      <td>163.50</td>\n",
       "      <td>3.789024e+09</td>\n",
       "      <td>NaN</td>\n",
       "      <td>NaN</td>\n",
       "      <td>TQBR</td>\n",
       "      <td>NaN</td>\n",
       "      <td>NaN</td>\n",
       "      <td>NaN</td>\n",
       "      <td>163.5</td>\n",
       "      <td>NaN</td>\n",
       "      <td>...</td>\n",
       "      <td>NaN</td>\n",
       "      <td>NaN</td>\n",
       "      <td>NaN</td>\n",
       "      <td>NaN</td>\n",
       "      <td>3789024448.8</td>\n",
       "      <td>23333230.0</td>\n",
       "      <td>162.43</td>\n",
       "      <td>NaN</td>\n",
       "      <td>NaN</td>\n",
       "      <td>NaN</td>\n",
       "    </tr>\n",
       "    <tr>\n",
       "      <th>2017-04-05</th>\n",
       "      <td>168.10</td>\n",
       "      <td>9.623816e+09</td>\n",
       "      <td>NaN</td>\n",
       "      <td>NaN</td>\n",
       "      <td>TQBR</td>\n",
       "      <td>NaN</td>\n",
       "      <td>NaN</td>\n",
       "      <td>NaN</td>\n",
       "      <td>168.1</td>\n",
       "      <td>NaN</td>\n",
       "      <td>...</td>\n",
       "      <td>NaN</td>\n",
       "      <td>NaN</td>\n",
       "      <td>NaN</td>\n",
       "      <td>NaN</td>\n",
       "      <td>9623815655.200001</td>\n",
       "      <td>57753380.0</td>\n",
       "      <td>166.63</td>\n",
       "      <td>NaN</td>\n",
       "      <td>NaN</td>\n",
       "      <td>NaN</td>\n",
       "    </tr>\n",
       "    <tr>\n",
       "      <th>2017-04-06</th>\n",
       "      <td>167.49</td>\n",
       "      <td>4.090698e+09</td>\n",
       "      <td>NaN</td>\n",
       "      <td>NaN</td>\n",
       "      <td>TQBR</td>\n",
       "      <td>NaN</td>\n",
       "      <td>NaN</td>\n",
       "      <td>NaN</td>\n",
       "      <td>167.49</td>\n",
       "      <td>NaN</td>\n",
       "      <td>...</td>\n",
       "      <td>NaN</td>\n",
       "      <td>NaN</td>\n",
       "      <td>NaN</td>\n",
       "      <td>NaN</td>\n",
       "      <td>4090698387.9</td>\n",
       "      <td>24422020.0</td>\n",
       "      <td>167.50</td>\n",
       "      <td>NaN</td>\n",
       "      <td>NaN</td>\n",
       "      <td>NaN</td>\n",
       "    </tr>\n",
       "    <tr>\n",
       "      <th>2017-04-07</th>\n",
       "      <td>161.49</td>\n",
       "      <td>9.744745e+09</td>\n",
       "      <td>NaN</td>\n",
       "      <td>NaN</td>\n",
       "      <td>TQBR</td>\n",
       "      <td>NaN</td>\n",
       "      <td>NaN</td>\n",
       "      <td>NaN</td>\n",
       "      <td>161.49</td>\n",
       "      <td>NaN</td>\n",
       "      <td>...</td>\n",
       "      <td>NaN</td>\n",
       "      <td>NaN</td>\n",
       "      <td>NaN</td>\n",
       "      <td>NaN</td>\n",
       "      <td>9744745429.1</td>\n",
       "      <td>59739010.0</td>\n",
       "      <td>163.14</td>\n",
       "      <td>NaN</td>\n",
       "      <td>NaN</td>\n",
       "      <td>NaN</td>\n",
       "    </tr>\n",
       "  </tbody>\n",
       "</table>\n",
       "<p>5 rows × 65 columns</p>\n",
       "</div>"
      ],
      "text/plain": [
       "            ADMITTEDQUOTE  ADMITTEDVALUE  BEICLOSE  BID BOARDID BOARDNAME  \\\n",
       "TRADEDATE                                                                   \n",
       "2017-04-03         161.80   5.287147e+09       NaN  NaN    TQBR       NaN   \n",
       "2017-04-04         163.50   3.789024e+09       NaN  NaN    TQBR       NaN   \n",
       "2017-04-05         168.10   9.623816e+09       NaN  NaN    TQBR       NaN   \n",
       "2017-04-06         167.49   4.090698e+09       NaN  NaN    TQBR       NaN   \n",
       "2017-04-07         161.49   9.744745e+09       NaN  NaN    TQBR       NaN   \n",
       "\n",
       "            BUYBACKDATE  CBRCLOSE   CLOSE  CLOSEAUCTIONPRICE  ...  TRENDCLSPR  \\\n",
       "TRADEDATE                                                     ...               \n",
       "2017-04-03          NaN       NaN   161.8                NaN  ...         NaN   \n",
       "2017-04-04          NaN       NaN   163.5                NaN  ...         NaN   \n",
       "2017-04-05          NaN       NaN   168.1                NaN  ...         NaN   \n",
       "2017-04-06          NaN       NaN  167.49                NaN  ...         NaN   \n",
       "2017-04-07          NaN       NaN  161.49                NaN  ...         NaN   \n",
       "\n",
       "            TRENDWAP  TRENDWAPPR  TYPE              VALUE      VOLUME  \\\n",
       "TRADEDATE                                                               \n",
       "2017-04-03       NaN         NaN   NaN       5287146510.1  32726400.0   \n",
       "2017-04-04       NaN         NaN   NaN       3789024448.8  23333230.0   \n",
       "2017-04-05       NaN         NaN   NaN  9623815655.200001  57753380.0   \n",
       "2017-04-06       NaN         NaN   NaN       4090698387.9  24422020.0   \n",
       "2017-04-07       NaN         NaN   NaN       9744745429.1  59739010.0   \n",
       "\n",
       "            WAPRICE WAVAL  YIELDLASTCOUPON YIELDTOOFFER  \n",
       "TRADEDATE                                                \n",
       "2017-04-03   161.56   NaN              NaN          NaN  \n",
       "2017-04-04   162.43   NaN              NaN          NaN  \n",
       "2017-04-05   166.63   NaN              NaN          NaN  \n",
       "2017-04-06   167.50   NaN              NaN          NaN  \n",
       "2017-04-07   163.14   NaN              NaN          NaN  \n",
       "\n",
       "[5 rows x 65 columns]"
      ]
     },
     "execution_count": 37,
     "metadata": {},
     "output_type": "execute_result"
    }
   ],
   "source": [
    "f.head()"
   ]
  },
  {
   "cell_type": "code",
   "execution_count": null,
   "metadata": {},
   "outputs": [],
   "source": []
  },
  {
   "cell_type": "code",
   "execution_count": 5,
   "metadata": {},
   "outputs": [],
   "source": [
    "times = df.index.values"
   ]
  },
  {
   "cell_type": "code",
   "execution_count": 6,
   "metadata": {},
   "outputs": [],
   "source": [
    "prices = df['Close']"
   ]
  },
  {
   "cell_type": "code",
   "execution_count": 7,
   "metadata": {},
   "outputs": [
    {
     "data": {
      "image/png": "[encoded data removed]",
      "text/plain": [
       "<Figure size 432x288 with 1 Axes>"
      ]
     },
     "metadata": {},
     "output_type": "display_data"
    }
   ],
   "source": [
    "plt.plot(times, prices)\n",
    "plt.savefig('test.png')"
   ]
  },
  {
   "cell_type": "code",
   "execution_count": 8,
   "metadata": {},
   "outputs": [],
   "source": [
    "import time"
   ]
  },
  {
   "cell_type": "code",
   "execution_count": 102,
   "metadata": {},
   "outputs": [
    {
     "data": {
      "text/plain": [
       "'641886'"
      ]
     },
     "execution_count": 102,
     "metadata": {},
     "output_type": "execute_result"
    }
   ],
   "source": [
    "str(round(time.time() * 1000))[-6:]"
   ]
  },
  {
   "cell_type": "code",
   "execution_count": 103,
   "metadata": {},
   "outputs": [],
   "source": [
    "import random"
   ]
  },
  {
   "cell_type": "code",
   "execution_count": 118,
   "metadata": {},
   "outputs": [
    {
     "data": {
      "text/plain": [
       "'448102'"
      ]
     },
     "execution_count": 118,
     "metadata": {},
     "output_type": "execute_result"
    }
   ],
   "source": [
    "str(random.random())[-6:]"
   ]
  },
  {
   "cell_type": "raw",
   "metadata": {},
   "source": []
  }
 ],
 "metadata": {
  "kernelspec": {
   "display_name": "Python 3 (ipykernel)",
   "language": "python",
   "name": "python3"
  },
  "language_info": {
   "codemirror_mode": {
    "name": "ipython",
    "version": 3
   },
   "file_extension": ".py",
   "mimetype": "text/x-python",
   "name": "python",
   "nbconvert_exporter": "python",
   "pygments_lexer": "ipython3",
   "version": "3.9.7"
  }
 },
 "nbformat": 4,
 "nbformat_minor": 1
}
