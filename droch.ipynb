{
 "cells": [
  {
   "cell_type": "code",
   "execution_count": 1,
   "outputs": [],
   "source": [
    "from utils import figi_from_ticker, get_shares, figi\n",
    "\n",
    "from datetime import date\n",
    "\n",
    "import numpy as np"
   ],
   "metadata": {
    "collapsed": false,
    "pycharm": {
     "name": "#%%\n"
    }
   }
  },
  {
   "cell_type": "code",
   "execution_count": 2,
   "outputs": [],
   "source": [
    "from strategy import BaseStrategy, MeanReversion"
   ],
   "metadata": {
    "collapsed": false,
    "pycharm": {
     "name": "#%%\n"
    }
   }
  },
  {
   "cell_type": "code",
   "execution_count": 7,
   "outputs": [
    {
     "data": {
      "text/plain": "<strategy.MeanReversion at 0x2787b7083a0>"
     },
     "execution_count": 7,
     "metadata": {},
     "output_type": "execute_result"
    }
   ],
   "source": [
    "a = MeanReversion(\"t\", date(2021, 1, 9), date.today())\n",
    "a"
   ],
   "metadata": {
    "collapsed": false,
    "pycharm": {
     "name": "#%%\n"
    }
   }
  },
  {
   "cell_type": "code",
   "execution_count": 8,
   "outputs": [
    {
     "name": "stdout",
     "output_type": "stream",
     "text": [
      "Wall time: 2.99 ms\n"
     ]
    },
    {
     "data": {
      "text/plain": "[['Buy', '2021-02-02', 0.1, 28.540000915527344],\n ['Buy', '2021-02-03', 0.1, 28.51000022888184],\n ['Sold', '2021-02-16', 0.1, 28.96999931335449],\n ['Sold', '2021-02-17', 0.1, 29.56999969482422],\n ['Buy', '2021-02-26', 0.1, 27.88999938964844],\n ['Sold', '2021-03-05', 0.1, 29.6200008392334],\n ['Buy', '2021-04-12', 0.1, 29.959999084472656],\n ['Buy', '2021-04-13', 0.1, 29.6299991607666],\n ['Sold', '2021-04-22', 0.1, 31.36000061035156],\n ['Sold', '2021-04-23', 0.1, 31.399999618530277],\n ['Buy', '2021-05-18', 0.1, 29.549999237060547],\n ['Buy', '2021-05-19', 0.1, 28.959999084472656],\n ['Buy', '2021-06-08', 0.1, 28.979999542236328],\n ['Buy', '2021-06-17', 0.1, 28.739999771118164],\n ['Buy', '2021-06-18', 0.1, 28.649999618530277],\n ['Buy', '2021-06-23', 0.1, 28.649999618530277],\n ['Sold', '2021-07-02', 0.1, 29.229999542236328],\n ['Buy', '2021-07-08', 0.1, 28.18000030517578],\n ['Buy', '2021-07-19', 0.1, 27.790000915527344],\n ['Buy', '2021-08-09', 0.1, 27.850000381469727],\n ['Buy', '2021-08-18', 0.1, 27.82999992370605],\n ['Buy', '2021-08-19', 0.1, 27.530000686645508],\n ['Buy', '2021-08-23', 1.3877787807814457e-16, 27.520000457763672],\n ['Sold', '2021-12-16', 0.1, 23.709999084472656],\n ['Sold', '2021-12-17', 0.1, 23.780000686645508],\n ['Sold', '2021-12-20', 0.1, 24.190000534057617],\n ['Sold', '2021-12-21', 0.1, 24.46999931335449],\n ['Sold', '2021-12-22', 0.1, 24.780000686645508],\n ['Sold', '2021-12-23', 0.1, 24.8700008392334],\n ['Sold', '2022-01-03', 0.1, 25.43000030517578],\n ['Sold', '2022-01-04', 0.1, 25.63999938964844],\n ['Sold', '2022-01-05', 0.1, 26.209999084472656],\n ['Sold', '2022-01-07', 0.1, 26.290000915527344],\n ['Sold', '2022-01-10', 1.3877787807814457e-16, 26.459999084472656],\n ['Buy', '2022-01-26', 0.1, 24.25],\n ['Buy', '2022-01-27', 0.1, 24.1200008392334],\n ['Buy', '2022-02-04', 0.1, 24.07999992370605],\n ['Buy', '2022-02-07', 0.1, 23.93000030517578],\n ['Buy', '2022-02-17', 0.1, 23.76000022888184],\n ['Buy', '2022-02-22', 0.1, 23.75],\n ['Buy', '2022-02-23', 0.1, 23.51000022888184],\n ['Buy', '2022-02-24', 0.1, 23.229999542236328],\n ['Buy', '2022-03-08', 0.1, 23.0],\n ['Buy', '2022-03-14', 0.1, 22.88999938964844],\n ['Sold', '2022-03-24', 0.1, 23.32999992370605],\n ['Sold', '2022-03-25', 0.1, 23.84000015258789],\n ['Sold', '2022-03-28', 0.1, 23.8700008392334],\n ['Sold', '2022-03-29', 0.1, 23.989999771118164],\n ['Sold', '2022-03-30', 0.1, 24.13999938964844]]"
     },
     "execution_count": 8,
     "metadata": {},
     "output_type": "execute_result"
    }
   ],
   "source": [
    "%%time\n",
    "\n",
    "history, out_amount, currency = a.simulation()\n",
    "history"
   ],
   "metadata": {
    "collapsed": false,
    "pycharm": {
     "name": "#%%\n"
    }
   }
  },
  {
   "cell_type": "code",
   "execution_count": 33,
   "outputs": [
    {
     "name": "stdout",
     "output_type": "stream",
     "text": [
      "9000.0\n",
      "8100.0\n",
      "9064.793854107977\n",
      "10049.569644502626\n",
      "9044.612680052363\n",
      "10058.004638190478\n",
      "9052.204174371429\n",
      "8146.983756934286\n",
      "9192.912179823186\n",
      "10240.174661982725\n",
      "9216.157195784452\n",
      "8294.541476206006\n",
      "7465.087328585406\n",
      "6718.578595726865\n",
      "6046.720736154179\n",
      "5442.048662538761\n",
      "6325.3027088537\n",
      "5692.7724379683295\n",
      "5123.495194171496\n",
      "4611.145674754347\n",
      "4150.031107278913\n",
      "3735.0279965510213\n",
      "3735.027996551021\n",
      "4328.283604377918\n",
      "4923.290745087543\n",
      "5528.556625488334\n",
      "6140.828446522474\n",
      "6760.856912864095\n",
      "7383.137302330546\n",
      "8019.429620788085\n",
      "8660.976394720636\n",
      "9316.78531662752\n",
      "9974.59599040038\n",
      "10636.660243715263\n",
      "9572.994219343736\n",
      "8615.694797409364\n",
      "7754.125317668428\n",
      "6978.7127859015845\n",
      "6280.8415073114265\n",
      "5652.757356580284\n",
      "5087.481620922255\n",
      "4578.73345883003\n",
      "4120.860112947027\n",
      "3708.774101652324\n",
      "4328.115784116746\n",
      "4960.9964464716895\n",
      "5594.673537279393\n",
      "6231.536240629337\n",
      "6872.380984974282\n"
     ]
    }
   ],
   "source": [
    "\n",
    "def count_bills(self, start_bills):\n",
    "    bills = start_bills\n",
    "    num_shares = 0\n",
    "    value_in_shares = 0\n",
    "    num_buy = 0\n",
    "    for action, operation_date, stonks, price in self.history:\n",
    "        if action == \"Buy\":\n",
    "            transaction = bills * stonks\n",
    "            bills -= transaction\n",
    "            num_shares += transaction / price\n",
    "            num_buy += 1\n",
    "        else:\n",
    "            value_in_shares = num_shares * price\n",
    "            transaction = value_in_shares / num_buy\n",
    "            bills += transaction\n",
    "            value_in_shares -= transaction\n",
    "        print(bills)"
   ],
   "metadata": {
    "collapsed": false,
    "pycharm": {
     "name": "#%%\n"
    }
   }
  },
  {
   "cell_type": "code",
   "execution_count": 32,
   "outputs": [
    {
     "data": {
      "text/plain": "6872.380984974282"
     },
     "execution_count": 32,
     "metadata": {},
     "output_type": "execute_result"
    }
   ],
   "source": [
    "bills"
   ],
   "metadata": {
    "collapsed": false,
    "pycharm": {
     "name": "#%%\n"
    }
   }
  },
  {
   "cell_type": "code",
   "execution_count": 26,
   "outputs": [
    {
     "data": {
      "text/plain": "0.31633090077403997"
     },
     "execution_count": 26,
     "metadata": {},
     "output_type": "execute_result"
    }
   ],
   "source": [
    "buy_history = []\n",
    "close_history = []\n",
    "\n",
    "profit = 1\n",
    "\n",
    "for action, operation_date, stonks, price in history:\n",
    "    if action == \"Buy\":\n",
    "        buy_history.append([stonks, price])\n",
    "    else:\n",
    "        s, p = buy_history[0]\n",
    "        if s == stonks:\n",
    "            buy_history = buy_history[1:]\n",
    "            profit *= price / p\n",
    "        else:\n",
    "            print(stonks, price)\n",
    "profit"
   ],
   "metadata": {
    "collapsed": false,
    "pycharm": {
     "name": "#%%\n"
    }
   }
  },
  {
   "cell_type": "code",
   "execution_count": null,
   "outputs": [],
   "source": [],
   "metadata": {
    "collapsed": false,
    "pycharm": {
     "name": "#%%\n"
    }
   }
  },
  {
   "cell_type": "code",
   "execution_count": null,
   "outputs": [],
   "source": [],
   "metadata": {
    "collapsed": false,
    "pycharm": {
     "name": "#%%\n"
    }
   }
  },
  {
   "cell_type": "code",
   "execution_count": null,
   "outputs": [],
   "source": [],
   "metadata": {
    "collapsed": false,
    "pycharm": {
     "name": "#%%\n"
    }
   }
  },
  {
   "cell_type": "code",
   "execution_count": null,
   "outputs": [],
   "source": [],
   "metadata": {
    "collapsed": false,
    "pycharm": {
     "name": "#%%\n"
    }
   }
  },
  {
   "cell_type": "code",
   "execution_count": null,
   "outputs": [],
   "source": [
    "date"
   ],
   "metadata": {
    "collapsed": false,
    "pycharm": {
     "name": "#%%\n"
    }
   }
  },
  {
   "cell_type": "code",
   "execution_count": 15,
   "outputs": [],
   "source": [
    "from datetime import datetime\n",
    "from datetime import time"
   ],
   "metadata": {
    "collapsed": false,
    "pycharm": {
     "name": "#%%\n"
    }
   }
  },
  {
   "cell_type": "code",
   "execution_count": 16,
   "outputs": [
    {
     "data": {
      "text/plain": "<function __main__.<lambda>(n)>"
     },
     "execution_count": 16,
     "metadata": {},
     "output_type": "execute_result"
    }
   ],
   "source": [
    "n = \"01.01.2022\"\n",
    "start_date = lambda n: datetime.strptime(n, \"%d.%m.%Y\")\n",
    "start_date"
   ],
   "metadata": {
    "collapsed": false,
    "pycharm": {
     "name": "#%%\n"
    }
   }
  },
  {
   "cell_type": "code",
   "execution_count": 17,
   "outputs": [],
   "source": [
    "import pandas as pd"
   ],
   "metadata": {
    "collapsed": false,
    "pycharm": {
     "name": "#%%\n"
    }
   }
  },
  {
   "cell_type": "code",
   "execution_count": 24,
   "outputs": [],
   "source": [
    "def get_close_series(ticket, start_date, end_date):\n",
    "    start_date = datetime.combine(start_date, time(0, 0))\n",
    "    data = get_shares(ticket)\n",
    "    assert not data is None, \"Wrong ticket\"\n",
    "\n",
    "    start_date = max(datetime.strptime(data['Date'][0], '%Y-%m-%d'), start_date)\n",
    "    data = data.loc[:,[\"Date\", \"Close\"]]\n",
    "    return data"
   ],
   "metadata": {
    "collapsed": false,
    "pycharm": {
     "name": "#%%\n"
    }
   }
  },
  {
   "cell_type": "code",
   "execution_count": 25,
   "outputs": [
    {
     "data": {
      "text/plain": "            Date       Close\n0     1999-12-31    0.917969\n1     2000-01-03    0.999442\n2     2000-01-04    0.915179\n3     2000-01-05    0.928571\n4     2000-01-06    0.848214\n...          ...         ...\n5595  2022-03-28  175.600006\n5596  2022-03-29  178.960007\n5597  2022-03-30  177.770004\n5598  2022-03-31  174.610001\n5599  2022-04-01  174.309998\n\n[5600 rows x 2 columns]",
      "text/html": "<div>\n<style scoped>\n    .dataframe tbody tr th:only-of-type {\n        vertical-align: middle;\n    }\n\n    .dataframe tbody tr th {\n        vertical-align: top;\n    }\n\n    .dataframe thead th {\n        text-align: right;\n    }\n</style>\n<table border=\"1\" class=\"dataframe\">\n  <thead>\n    <tr style=\"text-align: right;\">\n      <th></th>\n      <th>Date</th>\n      <th>Close</th>\n    </tr>\n  </thead>\n  <tbody>\n    <tr>\n      <th>0</th>\n      <td>1999-12-31</td>\n      <td>0.917969</td>\n    </tr>\n    <tr>\n      <th>1</th>\n      <td>2000-01-03</td>\n      <td>0.999442</td>\n    </tr>\n    <tr>\n      <th>2</th>\n      <td>2000-01-04</td>\n      <td>0.915179</td>\n    </tr>\n    <tr>\n      <th>3</th>\n      <td>2000-01-05</td>\n      <td>0.928571</td>\n    </tr>\n    <tr>\n      <th>4</th>\n      <td>2000-01-06</td>\n      <td>0.848214</td>\n    </tr>\n    <tr>\n      <th>...</th>\n      <td>...</td>\n      <td>...</td>\n    </tr>\n    <tr>\n      <th>5595</th>\n      <td>2022-03-28</td>\n      <td>175.600006</td>\n    </tr>\n    <tr>\n      <th>5596</th>\n      <td>2022-03-29</td>\n      <td>178.960007</td>\n    </tr>\n    <tr>\n      <th>5597</th>\n      <td>2022-03-30</td>\n      <td>177.770004</td>\n    </tr>\n    <tr>\n      <th>5598</th>\n      <td>2022-03-31</td>\n      <td>174.610001</td>\n    </tr>\n    <tr>\n      <th>5599</th>\n      <td>2022-04-01</td>\n      <td>174.309998</td>\n    </tr>\n  </tbody>\n</table>\n<p>5600 rows × 2 columns</p>\n</div>"
     },
     "execution_count": 25,
     "metadata": {},
     "output_type": "execute_result"
    }
   ],
   "source": [
    "get_close_series('aapl', date(2021, 1, 9), date.today())"
   ],
   "metadata": {
    "collapsed": false,
    "pycharm": {
     "name": "#%%\n"
    }
   }
  },
  {
   "cell_type": "code",
   "execution_count": null,
   "outputs": [],
   "source": [
    "start_date = max(datetime.strptime(self.data['Date'][0], '%Y-%m-%d'), start_date)\n",
    "self.start_point = self.data[pd.to_datetime(self.data['Date']) >= np.datetime64(start_date)].index[0]\n",
    "self.end_point = self.data[pd.to_datetime(self.data['Date']) <= np.datetime64(end_date)].index[-1]\n",
    "self.data = np.array(self.data)\n",
    "self.iter_data = self.data[self.start_point: self.end_point]"
   ],
   "metadata": {
    "collapsed": false,
    "pycharm": {
     "name": "#%%\n"
    }
   }
  },
  {
   "cell_type": "code",
   "execution_count": null,
   "outputs": [],
   "source": [
    "start_date.month"
   ],
   "metadata": {
    "collapsed": false,
    "pycharm": {
     "name": "#%%\n"
    }
   }
  },
  {
   "cell_type": "code",
   "execution_count": null,
   "outputs": [],
   "source": [
    "stocks = MeanReversion(\"tsla\", date(2010, 5, 9), date.today())\n",
    "history = stocks.simulation()\n",
    "history"
   ],
   "metadata": {
    "collapsed": false,
    "pycharm": {
     "name": "#%%\n"
    }
   }
  },
  {
   "cell_type": "code",
   "execution_count": null,
   "outputs": [],
   "source": [],
   "metadata": {
    "collapsed": false,
    "pycharm": {
     "name": "#%%\n"
    }
   }
  },
  {
   "cell_type": "code",
   "execution_count": null,
   "outputs": [],
   "source": [],
   "metadata": {
    "collapsed": false,
    "pycharm": {
     "name": "#%%\n"
    }
   }
  },
  {
   "cell_type": "markdown",
   "source": [],
   "metadata": {
    "collapsed": false
   }
  },
  {
   "cell_type": "code",
   "execution_count": null,
   "outputs": [],
   "source": [
    "stocks = BaseStrategy(\"tsla\", date(2019, 5, 9), date.today(), dayes2)\n",
    "history = stocks.simulation()\n",
    "history"
   ],
   "metadata": {
    "collapsed": false,
    "pycharm": {
     "name": "#%%\n"
    }
   }
  },
  {
   "cell_type": "code",
   "execution_count": null,
   "outputs": [],
   "source": [
    "stocks = MeanReversion(\"T\", date(2000, 5, 9), date.today())\n",
    "history = stocks.simulation()\n",
    "history"
   ],
   "metadata": {
    "collapsed": false,
    "pycharm": {
     "name": "#%%\n"
    }
   }
  },
  {
   "cell_type": "code",
   "execution_count": null,
   "outputs": [],
   "source": [
    "stocks = MeanReversion(\"T\", date(2000, 5, 9), date.today())\n",
    "history = stocks.simulation()\n",
    "history"
   ],
   "metadata": {
    "collapsed": false,
    "pycharm": {
     "name": "#%%\n"
    }
   }
  },
  {
   "cell_type": "code",
   "execution_count": null,
   "outputs": [],
   "source": [],
   "metadata": {
    "collapsed": false,
    "pycharm": {
     "name": "#%%\n"
    }
   }
  },
  {
   "cell_type": "code",
   "execution_count": null,
   "outputs": [],
   "source": [],
   "metadata": {
    "collapsed": false,
    "pycharm": {
     "name": "#%%\n"
    }
   }
  },
  {
   "cell_type": "code",
   "execution_count": null,
   "outputs": [],
   "source": [
    "sma = stocks.data"
   ],
   "metadata": {
    "collapsed": false,
    "pycharm": {
     "name": "#%%\n"
    }
   }
  },
  {
   "cell_type": "code",
   "execution_count": null,
   "outputs": [],
   "source": [
    "sma = 50\n",
    "sma_list = []\n",
    "\n",
    "for i, _ in enumerate(stocks.data):\n",
    "    sma_list.append(stocks.data[max(i - 50, 0): i + 1, 3].mean())\n",
    "\n",
    "sma_list = np.array(sma_list)\n",
    "sma_list"
   ],
   "metadata": {
    "collapsed": false,
    "pycharm": {
     "name": "#%%\n"
    }
   }
  },
  {
   "cell_type": "code",
   "execution_count": null,
   "outputs": [],
   "source": [
    "(stocks.data[:, 3] - sma_list) / sma_list"
   ],
   "metadata": {
    "collapsed": false,
    "pycharm": {
     "name": "#%%\n"
    }
   }
  },
  {
   "cell_type": "code",
   "execution_count": null,
   "outputs": [],
   "source": [],
   "metadata": {
    "collapsed": false,
    "pycharm": {
     "name": "#%%\n"
    }
   }
  },
  {
   "cell_type": "code",
   "execution_count": null,
   "outputs": [],
   "source": [
    "sma_list.append(stocks.data[max(i - 50, 0): i + 1])"
   ],
   "metadata": {
    "collapsed": false,
    "pycharm": {
     "name": "#%%\n"
    }
   }
  },
  {
   "cell_type": "code",
   "execution_count": null,
   "outputs": [],
   "source": [
    "sma_list"
   ],
   "metadata": {
    "collapsed": false,
    "pycharm": {
     "name": "#%%\n"
    }
   }
  },
  {
   "cell_type": "code",
   "execution_count": null,
   "outputs": [],
   "source": [],
   "metadata": {
    "collapsed": false,
    "pycharm": {
     "name": "#%%\n"
    }
   }
  },
  {
   "cell_type": "code",
   "execution_count": null,
   "outputs": [],
   "source": [],
   "metadata": {
    "collapsed": false,
    "pycharm": {
     "name": "#%%\n"
    }
   }
  },
  {
   "cell_type": "code",
   "execution_count": null,
   "outputs": [],
   "source": [],
   "metadata": {
    "collapsed": false,
    "pycharm": {
     "name": "#%%\n"
    }
   }
  },
  {
   "cell_type": "code",
   "execution_count": null,
   "outputs": [],
   "source": [],
   "metadata": {
    "collapsed": false,
    "pycharm": {
     "name": "#%%\n"
    }
   }
  }
 ],
 "metadata": {
  "kernelspec": {
   "display_name": "Python 3",
   "language": "python",
   "name": "python3"
  },
  "language_info": {
   "codemirror_mode": {
    "name": "ipython",
    "version": 2
   },
   "file_extension": ".py",
   "mimetype": "text/x-python",
   "name": "python",
   "nbconvert_exporter": "python",
   "pygments_lexer": "ipython2",
   "version": "2.7.6"
  }
 },
 "nbformat": 4,
 "nbformat_minor": 0
}