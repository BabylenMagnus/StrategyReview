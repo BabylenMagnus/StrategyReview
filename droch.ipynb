{
 "cells": [
  {
   "cell_type": "code",
   "execution_count": 1,
   "outputs": [],
   "source": [
    "from utils import figi_from_ticker, get_shares, figi"
   ],
   "metadata": {
    "collapsed": false,
    "pycharm": {
     "name": "#%%\n"
    }
   }
  },
  {
   "cell_type": "code",
   "execution_count": 2,
   "outputs": [
    {
     "name": "stdout",
     "output_type": "stream",
     "text": [
      "[*********************100%***********************]  1 of 1 completed\n"
     ]
    },
    {
     "data": {
      "text/plain": "                  Open        High         Low       Close   Adj Close  \\\nDate                                                                     \n1999-12-31    0.901228    0.918527    0.888393    0.917969    0.786033   \n2000-01-03    0.936384    1.004464    0.907924    0.999442    0.855797   \n2000-01-04    0.966518    0.987723    0.903460    0.915179    0.783644   \n2000-01-05    0.926339    0.987165    0.919643    0.928571    0.795112   \n2000-01-06    0.947545    0.955357    0.848214    0.848214    0.726304   \n...                ...         ...         ...         ...         ...   \n2022-03-28  172.169998  175.729996  172.000000  175.600006  175.600006   \n2022-03-29  176.690002  179.009995  176.339996  178.960007  178.960007   \n2022-03-30  178.550003  179.610001  176.699997  177.770004  177.770004   \n2022-03-31  177.839996  178.029999  174.399994  174.610001  174.610001   \n2022-04-01  174.029999  174.880005  171.940002  174.309998  174.309998   \n\n               Volume  \nDate                   \n1999-12-31  163811200  \n2000-01-03  535796800  \n2000-01-04  512377600  \n2000-01-05  778321600  \n2000-01-06  767972800  \n...               ...  \n2022-03-28   90371900  \n2022-03-29  100589400  \n2022-03-30   92633200  \n2022-03-31  103049300  \n2022-04-01   78699800  \n\n[5600 rows x 6 columns]",
      "text/html": "<div>\n<style scoped>\n    .dataframe tbody tr th:only-of-type {\n        vertical-align: middle;\n    }\n\n    .dataframe tbody tr th {\n        vertical-align: top;\n    }\n\n    .dataframe thead th {\n        text-align: right;\n    }\n</style>\n<table border=\"1\" class=\"dataframe\">\n  <thead>\n    <tr style=\"text-align: right;\">\n      <th></th>\n      <th>Open</th>\n      <th>High</th>\n      <th>Low</th>\n      <th>Close</th>\n      <th>Adj Close</th>\n      <th>Volume</th>\n    </tr>\n    <tr>\n      <th>Date</th>\n      <th></th>\n      <th></th>\n      <th></th>\n      <th></th>\n      <th></th>\n      <th></th>\n    </tr>\n  </thead>\n  <tbody>\n    <tr>\n      <th>1999-12-31</th>\n      <td>0.901228</td>\n      <td>0.918527</td>\n      <td>0.888393</td>\n      <td>0.917969</td>\n      <td>0.786033</td>\n      <td>163811200</td>\n    </tr>\n    <tr>\n      <th>2000-01-03</th>\n      <td>0.936384</td>\n      <td>1.004464</td>\n      <td>0.907924</td>\n      <td>0.999442</td>\n      <td>0.855797</td>\n      <td>535796800</td>\n    </tr>\n    <tr>\n      <th>2000-01-04</th>\n      <td>0.966518</td>\n      <td>0.987723</td>\n      <td>0.903460</td>\n      <td>0.915179</td>\n      <td>0.783644</td>\n      <td>512377600</td>\n    </tr>\n    <tr>\n      <th>2000-01-05</th>\n      <td>0.926339</td>\n      <td>0.987165</td>\n      <td>0.919643</td>\n      <td>0.928571</td>\n      <td>0.795112</td>\n      <td>778321600</td>\n    </tr>\n    <tr>\n      <th>2000-01-06</th>\n      <td>0.947545</td>\n      <td>0.955357</td>\n      <td>0.848214</td>\n      <td>0.848214</td>\n      <td>0.726304</td>\n      <td>767972800</td>\n    </tr>\n    <tr>\n      <th>...</th>\n      <td>...</td>\n      <td>...</td>\n      <td>...</td>\n      <td>...</td>\n      <td>...</td>\n      <td>...</td>\n    </tr>\n    <tr>\n      <th>2022-03-28</th>\n      <td>172.169998</td>\n      <td>175.729996</td>\n      <td>172.000000</td>\n      <td>175.600006</td>\n      <td>175.600006</td>\n      <td>90371900</td>\n    </tr>\n    <tr>\n      <th>2022-03-29</th>\n      <td>176.690002</td>\n      <td>179.009995</td>\n      <td>176.339996</td>\n      <td>178.960007</td>\n      <td>178.960007</td>\n      <td>100589400</td>\n    </tr>\n    <tr>\n      <th>2022-03-30</th>\n      <td>178.550003</td>\n      <td>179.610001</td>\n      <td>176.699997</td>\n      <td>177.770004</td>\n      <td>177.770004</td>\n      <td>92633200</td>\n    </tr>\n    <tr>\n      <th>2022-03-31</th>\n      <td>177.839996</td>\n      <td>178.029999</td>\n      <td>174.399994</td>\n      <td>174.610001</td>\n      <td>174.610001</td>\n      <td>103049300</td>\n    </tr>\n    <tr>\n      <th>2022-04-01</th>\n      <td>174.029999</td>\n      <td>174.880005</td>\n      <td>171.940002</td>\n      <td>174.309998</td>\n      <td>174.309998</td>\n      <td>78699800</td>\n    </tr>\n  </tbody>\n</table>\n<p>5600 rows × 6 columns</p>\n</div>"
     },
     "execution_count": 2,
     "metadata": {},
     "output_type": "execute_result"
    }
   ],
   "source": [
    "data = get_shares('aapl')\n",
    "data"
   ],
   "metadata": {
    "collapsed": false,
    "pycharm": {
     "name": "#%%\n"
    }
   }
  },
  {
   "cell_type": "code",
   "execution_count": null,
   "outputs": [],
   "source": [],
   "metadata": {
    "collapsed": false,
    "pycharm": {
     "name": "#%%\n"
    }
   }
  },
  {
   "cell_type": "code",
   "execution_count": null,
   "outputs": [],
   "source": [],
   "metadata": {
    "collapsed": false,
    "pycharm": {
     "name": "#%%\n"
    }
   }
  },
  {
   "cell_type": "code",
   "execution_count": 2,
   "outputs": [],
   "source": [],
   "metadata": {
    "collapsed": false,
    "pycharm": {
     "name": "#%%\n"
    }
   }
  },
  {
   "cell_type": "code",
   "execution_count": 3,
   "outputs": [
    {
     "data": {
      "text/plain": "                  Open        High         Low       Close   Adj Close  \\\nDate                                                                     \n1999-12-31    0.901228    0.918527    0.888393    0.917969    0.786033   \n2000-01-03    0.936384    1.004464    0.907924    0.999442    0.855797   \n2000-01-04    0.966518    0.987723    0.903460    0.915179    0.783644   \n2000-01-05    0.926339    0.987165    0.919643    0.928571    0.795112   \n2000-01-06    0.947545    0.955357    0.848214    0.848214    0.726304   \n...                ...         ...         ...         ...         ...   \n2022-03-28  172.169998  175.729996  172.000000  175.600006  175.600006   \n2022-03-29  176.690002  179.009995  176.339996  178.960007  178.960007   \n2022-03-30  178.550003  179.610001  176.699997  177.770004  177.770004   \n2022-03-31  177.839996  178.029999  174.399994  174.610001  174.610001   \n2022-04-01  174.029999  174.880005  171.940002  174.309998  174.309998   \n\n               Volume  \nDate                   \n1999-12-31  163811200  \n2000-01-03  535796800  \n2000-01-04  512377600  \n2000-01-05  778321600  \n2000-01-06  767972800  \n...               ...  \n2022-03-28   90371900  \n2022-03-29  100589400  \n2022-03-30   92633200  \n2022-03-31  103049300  \n2022-04-01   78699800  \n\n[5600 rows x 6 columns]",
      "text/html": "<div>\n<style scoped>\n    .dataframe tbody tr th:only-of-type {\n        vertical-align: middle;\n    }\n\n    .dataframe tbody tr th {\n        vertical-align: top;\n    }\n\n    .dataframe thead th {\n        text-align: right;\n    }\n</style>\n<table border=\"1\" class=\"dataframe\">\n  <thead>\n    <tr style=\"text-align: right;\">\n      <th></th>\n      <th>Open</th>\n      <th>High</th>\n      <th>Low</th>\n      <th>Close</th>\n      <th>Adj Close</th>\n      <th>Volume</th>\n    </tr>\n    <tr>\n      <th>Date</th>\n      <th></th>\n      <th></th>\n      <th></th>\n      <th></th>\n      <th></th>\n      <th></th>\n    </tr>\n  </thead>\n  <tbody>\n    <tr>\n      <th>1999-12-31</th>\n      <td>0.901228</td>\n      <td>0.918527</td>\n      <td>0.888393</td>\n      <td>0.917969</td>\n      <td>0.786033</td>\n      <td>163811200</td>\n    </tr>\n    <tr>\n      <th>2000-01-03</th>\n      <td>0.936384</td>\n      <td>1.004464</td>\n      <td>0.907924</td>\n      <td>0.999442</td>\n      <td>0.855797</td>\n      <td>535796800</td>\n    </tr>\n    <tr>\n      <th>2000-01-04</th>\n      <td>0.966518</td>\n      <td>0.987723</td>\n      <td>0.903460</td>\n      <td>0.915179</td>\n      <td>0.783644</td>\n      <td>512377600</td>\n    </tr>\n    <tr>\n      <th>2000-01-05</th>\n      <td>0.926339</td>\n      <td>0.987165</td>\n      <td>0.919643</td>\n      <td>0.928571</td>\n      <td>0.795112</td>\n      <td>778321600</td>\n    </tr>\n    <tr>\n      <th>2000-01-06</th>\n      <td>0.947545</td>\n      <td>0.955357</td>\n      <td>0.848214</td>\n      <td>0.848214</td>\n      <td>0.726304</td>\n      <td>767972800</td>\n    </tr>\n    <tr>\n      <th>...</th>\n      <td>...</td>\n      <td>...</td>\n      <td>...</td>\n      <td>...</td>\n      <td>...</td>\n      <td>...</td>\n    </tr>\n    <tr>\n      <th>2022-03-28</th>\n      <td>172.169998</td>\n      <td>175.729996</td>\n      <td>172.000000</td>\n      <td>175.600006</td>\n      <td>175.600006</td>\n      <td>90371900</td>\n    </tr>\n    <tr>\n      <th>2022-03-29</th>\n      <td>176.690002</td>\n      <td>179.009995</td>\n      <td>176.339996</td>\n      <td>178.960007</td>\n      <td>178.960007</td>\n      <td>100589400</td>\n    </tr>\n    <tr>\n      <th>2022-03-30</th>\n      <td>178.550003</td>\n      <td>179.610001</td>\n      <td>176.699997</td>\n      <td>177.770004</td>\n      <td>177.770004</td>\n      <td>92633200</td>\n    </tr>\n    <tr>\n      <th>2022-03-31</th>\n      <td>177.839996</td>\n      <td>178.029999</td>\n      <td>174.399994</td>\n      <td>174.610001</td>\n      <td>174.610001</td>\n      <td>103049300</td>\n    </tr>\n    <tr>\n      <th>2022-04-01</th>\n      <td>174.029999</td>\n      <td>174.880005</td>\n      <td>171.940002</td>\n      <td>174.309998</td>\n      <td>174.309998</td>\n      <td>78699800</td>\n    </tr>\n  </tbody>\n</table>\n<p>5600 rows × 6 columns</p>\n</div>"
     },
     "execution_count": 3,
     "metadata": {},
     "output_type": "execute_result"
    }
   ],
   "source": [
    "data"
   ],
   "metadata": {
    "collapsed": false,
    "pycharm": {
     "name": "#%%\n"
    }
   }
  },
  {
   "cell_type": "code",
   "execution_count": 4,
   "outputs": [
    {
     "data": {
      "text/plain": "0               SBWS\n1               RCMX\n2               FXTB\n3       RU000A1007R9\n4       RU000A102Q33\n            ...     \n2077              RH\n2078             XYL\n2079            IDCC\n2080            AMED\n2081             PGR\nName: ticker, Length: 2082, dtype: object"
     },
     "execution_count": 4,
     "metadata": {},
     "output_type": "execute_result"
    }
   ],
   "source": [
    "figi['ticker']"
   ],
   "metadata": {
    "collapsed": false,
    "pycharm": {
     "name": "#%%\n"
    }
   }
  },
  {
   "cell_type": "code",
   "execution_count": 5,
   "outputs": [
    {
     "data": {
      "text/plain": "pandas.core.series.Series"
     },
     "execution_count": 5,
     "metadata": {},
     "output_type": "execute_result"
    }
   ],
   "source": [
    "type(figi['ticker'])"
   ],
   "metadata": {
    "collapsed": false,
    "pycharm": {
     "name": "#%%\n"
    }
   }
  }
 ],
 "metadata": {
  "kernelspec": {
   "display_name": "Python 3",
   "language": "python",
   "name": "python3"
  },
  "language_info": {
   "codemirror_mode": {
    "name": "ipython",
    "version": 2
   },
   "file_extension": ".py",
   "mimetype": "text/x-python",
   "name": "python",
   "nbconvert_exporter": "python",
   "pygments_lexer": "ipython2",
   "version": "2.7.6"
  }
 },
 "nbformat": 4,
 "nbformat_minor": 0
}