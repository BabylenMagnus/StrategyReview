{
 "cells": [
  {
   "cell_type": "code",
   "execution_count": 3,
   "outputs": [
    {
     "data": {
      "text/plain": "<contextlib._GeneratorContextManager at 0x1c80fdc3250>"
     },
     "execution_count": 3,
     "metadata": {},
     "output_type": "execute_result"
    }
   ],
   "source": [
    "from tinkoff.invest import Client\n",
    "from tinkoff.invest.token import TOKEN\n",
    "\n",
    "from datetime import datetime, timedelta\n",
    "\n",
    "\n",
    "client = Client(TOKEN)\n",
    "client"
   ],
   "metadata": {
    "collapsed": false,
    "pycharm": {
     "name": "#%%\n"
    }
   }
  },
  {
   "cell_type": "code",
   "execution_count": 1,
   "outputs": [],
   "source": [
    "from utils import figi_from_ticker"
   ],
   "metadata": {
    "collapsed": false,
    "pycharm": {
     "name": "#%%\n"
    }
   }
  },
  {
   "cell_type": "code",
   "execution_count": 5,
   "outputs": [
    {
     "data": {
      "text/plain": "'BBG000B9XRY4'"
     },
     "execution_count": 5,
     "metadata": {},
     "output_type": "execute_result"
    }
   ],
   "source": [
    "figi_from_ticker(\"aapl\")"
   ],
   "metadata": {
    "collapsed": false,
    "pycharm": {
     "name": "#%%\n"
    }
   }
  },
  {
   "cell_type": "code",
   "execution_count": null,
   "outputs": [],
   "source": [],
   "metadata": {
    "collapsed": false,
    "pycharm": {
     "name": "#%%\n"
    }
   }
  },
  {
   "cell_type": "code",
   "execution_count": null,
   "outputs": [],
   "source": [],
   "metadata": {
    "collapsed": false,
    "pycharm": {
     "name": "#%%\n"
    }
   }
  },
  {
   "cell_type": "code",
   "execution_count": 1,
   "outputs": [],
   "source": [
    "import pandas as pd"
   ],
   "metadata": {
    "collapsed": false,
    "pycharm": {
     "name": "#%%\n"
    }
   }
  },
  {
   "cell_type": "code",
   "execution_count": 2,
   "outputs": [
    {
     "data": {
      "text/plain": "                                    Название          figi        ticker\n0               Сбер - Взвешенный смарт фонд  BBG011C8J503          SBWS\n1                 Райффайзен Индекс МосБиржи  BBG00V0YCTS9          RCMX\n2     FinEx Казначейские облигации США (USD)  BBG00NRFC2X2          FXTB\n3                  БКС Фундаментальный Выбор  BBG00Q3DWRZ7  RU000A1007R9\n4                        БКС Мировые ресурсы  BBG0100QBVK7  RU000A102Q33\n...                                      ...           ...           ...\n2077                                      RH  BBG002293PJ4            RH\n2078                                   Xylem  BBG001D8R5D0           XYL\n2079                        InterDigItal Inc  BBG000HLJ7M4          IDCC\n2080                            Amedisys Inc  BBG000B9ZV28          AMED\n2081                             Progressive  BBG000BR37X2           PGR\n\n[2082 rows x 3 columns]",
      "text/html": "<div>\n<style scoped>\n    .dataframe tbody tr th:only-of-type {\n        vertical-align: middle;\n    }\n\n    .dataframe tbody tr th {\n        vertical-align: top;\n    }\n\n    .dataframe thead th {\n        text-align: right;\n    }\n</style>\n<table border=\"1\" class=\"dataframe\">\n  <thead>\n    <tr style=\"text-align: right;\">\n      <th></th>\n      <th>Название</th>\n      <th>figi</th>\n      <th>ticker</th>\n    </tr>\n  </thead>\n  <tbody>\n    <tr>\n      <th>0</th>\n      <td>Сбер - Взвешенный смарт фонд</td>\n      <td>BBG011C8J503</td>\n      <td>SBWS</td>\n    </tr>\n    <tr>\n      <th>1</th>\n      <td>Райффайзен Индекс МосБиржи</td>\n      <td>BBG00V0YCTS9</td>\n      <td>RCMX</td>\n    </tr>\n    <tr>\n      <th>2</th>\n      <td>FinEx Казначейские облигации США (USD)</td>\n      <td>BBG00NRFC2X2</td>\n      <td>FXTB</td>\n    </tr>\n    <tr>\n      <th>3</th>\n      <td>БКС Фундаментальный Выбор</td>\n      <td>BBG00Q3DWRZ7</td>\n      <td>RU000A1007R9</td>\n    </tr>\n    <tr>\n      <th>4</th>\n      <td>БКС Мировые ресурсы</td>\n      <td>BBG0100QBVK7</td>\n      <td>RU000A102Q33</td>\n    </tr>\n    <tr>\n      <th>...</th>\n      <td>...</td>\n      <td>...</td>\n      <td>...</td>\n    </tr>\n    <tr>\n      <th>2077</th>\n      <td>RH</td>\n      <td>BBG002293PJ4</td>\n      <td>RH</td>\n    </tr>\n    <tr>\n      <th>2078</th>\n      <td>Xylem</td>\n      <td>BBG001D8R5D0</td>\n      <td>XYL</td>\n    </tr>\n    <tr>\n      <th>2079</th>\n      <td>InterDigItal Inc</td>\n      <td>BBG000HLJ7M4</td>\n      <td>IDCC</td>\n    </tr>\n    <tr>\n      <th>2080</th>\n      <td>Amedisys Inc</td>\n      <td>BBG000B9ZV28</td>\n      <td>AMED</td>\n    </tr>\n    <tr>\n      <th>2081</th>\n      <td>Progressive</td>\n      <td>BBG000BR37X2</td>\n      <td>PGR</td>\n    </tr>\n  </tbody>\n</table>\n<p>2082 rows × 3 columns</p>\n</div>"
     },
     "execution_count": 2,
     "metadata": {},
     "output_type": "execute_result"
    }
   ],
   "source": [
    "figi = pd.read_excel('figi ticker.xlsx')\n",
    "figi"
   ],
   "metadata": {
    "collapsed": false,
    "pycharm": {
     "name": "#%%\n"
    }
   }
  },
  {
   "cell_type": "code",
   "execution_count": 6,
   "outputs": [
    {
     "data": {
      "text/plain": "'BBG000BVPV84'"
     },
     "execution_count": 6,
     "metadata": {},
     "output_type": "execute_result"
    }
   ],
   "source": [
    "figi['figi'][figi['ticker'] == 'AMZN'].item()"
   ],
   "metadata": {
    "collapsed": false,
    "pycharm": {
     "name": "#%%\n"
    }
   }
  },
  {
   "cell_type": "code",
   "execution_count": null,
   "outputs": [],
   "source": [],
   "metadata": {
    "collapsed": false,
    "pycharm": {
     "name": "#%%\n"
    }
   }
  },
  {
   "cell_type": "code",
   "execution_count": null,
   "outputs": [],
   "source": [
    "with Client(TOKEN) as client:\n",
    "    for candle in client.get_all_candles(\n",
    "        figi=\"BBG004730N88\",\n",
    "        from_=datetime.utcnow() - timedelta(days=365),\n",
    "        interval=CandleInterval.CANDLE_INTERVAL_HOUR,\n",
    "    ):\n",
    "        print(candle)"
   ],
   "metadata": {
    "collapsed": false,
    "pycharm": {
     "name": "#%%\n"
    }
   }
  },
  {
   "cell_type": "code",
   "execution_count": null,
   "outputs": [],
   "source": [],
   "metadata": {
    "collapsed": false,
    "pycharm": {
     "name": "#%%\n"
    }
   }
  }
 ],
 "metadata": {
  "kernelspec": {
   "display_name": "Python 3",
   "language": "python",
   "name": "python3"
  },
  "language_info": {
   "codemirror_mode": {
    "name": "ipython",
    "version": 2
   },
   "file_extension": ".py",
   "mimetype": "text/x-python",
   "name": "python",
   "nbconvert_exporter": "python",
   "pygments_lexer": "ipython2",
   "version": "2.7.6"
  }
 },
 "nbformat": 4,
 "nbformat_minor": 0
}